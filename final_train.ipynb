{
 "cells": [
  {
   "cell_type": "markdown",
   "id": "70264333",
   "metadata": {},
   "source": [
    "# Multi Layer Perceptron"
   ]
  },
  {
   "cell_type": "code",
   "execution_count": 1,
   "id": "153f1410",
   "metadata": {},
   "outputs": [],
   "source": [
    "# importing Libraries\n",
    "from sklearn.preprocessing import LabelBinarizer\n",
    "from sklearn.model_selection import train_test_split\n",
    "from sklearn.metrics import classification_report\n",
    "from sklearn import datasets\n",
    "import pandas as pd\n",
    "import numpy as np"
   ]
  },
  {
   "cell_type": "markdown",
   "id": "c39ff99e",
   "metadata": {},
   "source": [
    "# Defining a class with required functions to train our neural model"
   ]
  },
  {
   "cell_type": "code",
   "execution_count": 2,
   "id": "e6b1269e",
   "metadata": {},
   "outputs": [],
   "source": [
    "# import the necessary packages\n",
    "class NeuralNetwork:\n",
    "    \n",
    "# initializes the weights and frames the network architecture    \n",
    "    def __init__(self, layers, alpha=0.1):\n",
    "        self.W = []\n",
    "        self.layers = layers\n",
    "        self.alpha = alpha\n",
    "        for i in np.arange(0, len(layers) - 2):\n",
    "            \"\"\"here we randomly initialize a weight matrix connecting the\n",
    "               number of nodes in each respective layer together,\n",
    "               adding an extra node for the bias\"\"\"\n",
    "            w = np.random.randn(layers[i] + 1, layers[i + 1] + 1)\n",
    "            self.W.append(w / np.sqrt(layers[i]))\n",
    "            \"\"\"here,the last two layers are a special case where the input\n",
    "               connections need a bias term but the output does not\"\"\"\n",
    "        w = np.random.randn(layers[-2] + 1, layers[-1])\n",
    "        self.W.append(w / np.sqrt(layers[-2]))\n",
    "        \n",
    "        \n",
    "# constructing and returning a string that represents the network architecture\n",
    "    def __repr__(self):\n",
    "        return \"NeuralNetwork: {}\".format(\"-\".join(str(l) for l in self.layers))\n",
    "        \n",
    "#here we compute and return the sigmoid activation value for a given input value\n",
    "    def sigmoid(self, x):\n",
    "        return 1.0 / (1 + np.exp(-x))    \n",
    "\n",
    "#here compute the derivative of the sigmoid function ASSUMING that x has \n",
    "#already been passed through the 'sigmoid' function\n",
    "    def sigmoid_deriv(self, x):\n",
    "        return x * (1 - x)\n",
    "    \n",
    "# here we insert a column of 1's as the last entry in the feature\n",
    "#this allows us to treat the biasas a trainable parameter within the weight matrix\n",
    "    def fit(self, X, y, epochs=1000, displayUpdate=100):\n",
    "        X = np.c_[X, np.ones((X.shape[0]))]\n",
    "        # it loop over the desired number of epochs\n",
    "        for epoch in np.arange(0, epochs):\n",
    "            #  it loop over each individual data point and train our network on it\n",
    "            for (x, target) in zip(X, y):\n",
    "                self.fit_partial(x, target)\n",
    "            # it checks to see if we should display a training update\n",
    "            if epoch == 0 or (epoch + 1) % displayUpdate == 0:\n",
    "                loss = self.calculate_loss(X, y)\n",
    "        return self.W\n",
    "                \n",
    "                \n",
    "#here we construct our list of output activations for each layer as our data point \n",
    "#flows through the network; the first activation is a special case -- it's just the input\n",
    "#feature vector itself\n",
    "\n",
    "    def fit_partial(self, x, y):\n",
    "        A = [np.atleast_2d(x)]\n",
    "\n",
    "    # FEEDFORWARD:\n",
    "        # it loop over the layers in the network\n",
    "        for layer in np.arange(0, len(self.W)):\n",
    "            \"\"\"feedforward the activation at the current layer by\n",
    "               taking the dot product between the activation and\n",
    "               the weight matrix -- this is called the \"net input\"\n",
    "               to the current layer\"\"\"\n",
    "            net = A[layer].dot(self.W[layer])\n",
    "            # here we compute the \"net output\" is simply applying our\n",
    "            # nonlinear activation function to the net input\n",
    "            out = self.sigmoid(net)\n",
    "            # once we have the net output, we add it to our list of\n",
    "            # activations\n",
    "            A.append(out)\n",
    "            \n",
    "        # BACKPROPAGATION\n",
    "        # the first phase of backpropagation is to compute the\n",
    "        # difference between our *prediction* (the final output\n",
    "        # activation in the activations list) and the true target\n",
    "        # value\n",
    "        error = A[-1] - y\n",
    "        # from here, we need to apply the chain rule and build our\n",
    "        # list of deltas 'D'; the first entry in the deltas is\n",
    "        # simply the error of the output layer times the derivative\n",
    "        # of our activation function for the output value\n",
    "        D = [error * self.sigmoid_deriv(A[-1])]\n",
    "        # once you understand the chain rule it becomes super easy\n",
    "        # to implement with a 'for' loop -- simply loop over the\n",
    "        # layers in reverse order (ignoring the last two since we\n",
    "        # already have taken them into account)\n",
    "        \n",
    "        for layer in np.arange(len(A) - 2, 0, -1):\n",
    "            # the delta for the current layer is equal to the delta\n",
    "            # of the *previous layer* dotted with the weight matrix\n",
    "            # of the current layer, followed by multiplying the delta\n",
    "            # by the derivative of the nonlinear activation function\n",
    "            # for the activations of the current layer\n",
    "            delta = D[-1].dot(self.W[layer].T)\n",
    "            delta = delta * self.sigmoid_deriv(A[layer])\n",
    "            D.append(delta)\n",
    "        # since we looped over our layers in reverse order we need to\n",
    "        # reverse the deltas\n",
    "        D = D[::-1]\n",
    "        # WEIGHT UPDATE PHASE\n",
    "        # it loop over the layers\n",
    "        for layer in np.arange(0, len(self.W)):\n",
    "            # we update our weights by taking the dot product of the layer\n",
    "            # activations with their respective deltas, then multiplying\n",
    "            # this value by some small learning rate and adding to our\n",
    "            # weight matrix -- this is where the actual \"learning\" takes\n",
    "            # place\n",
    "            self.W[layer] += -self.alpha * A[layer].T.dot(D[layer])\n",
    "\n",
    "            \n",
    "# here, we initialize the output prediction as the input features -- this\n",
    "# value will be (forward) propagated through the network to  obtain the final prediction\n",
    "\n",
    "    def predict(self, X, addBias=True):\n",
    "        p = np.atleast_2d(X)\n",
    "        # check to see if the bias column should be added\n",
    "        if addBias:\n",
    "            # here we insert a column of 1's as the last entry in the feature\n",
    "            # matrix (bias)\n",
    "            p = np.c_[p, np.ones((p.shape[0]))]\n",
    "        # loop over our layers in the network\n",
    "        for layer in np.arange(0, len(self.W)):\n",
    "            # here we compute the output prediction is as simple as taking\n",
    "            # the dot product between the current activation value 'p'\n",
    "            # and the weight matrix associated with the current layer,\n",
    "            # then passing this value through a nonlinear activation\n",
    "            # function\n",
    "            p = self.sigmoid(np.dot(p, self.W[layer]))\n",
    "        # returns the predicted value\n",
    "        return p\n",
    "\n",
    "# makes predictions for the input data points then computethe loss    \n",
    "    def calculate_loss(self, X, targets):\n",
    "        targets = np.atleast_2d(targets)\n",
    "        predictions = self.predict(X, addBias=False)\n",
    "        loss = 0.5 * np.sum((predictions - targets) ** 2)\n",
    "        # return the loss\n",
    "        return loss"
   ]
  },
  {
   "cell_type": "markdown",
   "id": "3a8780fa",
   "metadata": {},
   "source": [
    "# Loading the data and implementing the model"
   ]
  },
  {
   "cell_type": "code",
   "execution_count": 3,
   "id": "932dad09",
   "metadata": {},
   "outputs": [],
   "source": [
    "#Load the data\n",
    "dataset =  pd.read_csv('train_data.csv')\n",
    "dl =  pd.read_csv('train_labels.csv')"
   ]
  },
  {
   "cell_type": "code",
   "execution_count": 4,
   "id": "b22de963",
   "metadata": {},
   "outputs": [
    {
     "name": "stdout",
     "output_type": "stream",
     "text": [
      "[INFO] samples: 24753, dim: 784\n"
     ]
    }
   ],
   "source": [
    "#Converting the given inputs to float \n",
    "data = np.float64(dataset)\n",
    "\n",
    "# Converting the target class into an integer(0,1,2,3).\n",
    "df=(dl[\"1.000000000000000000e+00\"]*1+dl[\"0.000000000000000000e+00\"]*2+dl[\"0.000000000000000000e+00.1\"]*3+dl[\"0.000000000000000000e+00.2\"]*4).astype('int')\n",
    "df = list(map(lambda el:[el], df-1))\n",
    "target = np.int64(df)\n",
    "print(\"[INFO] samples: {}, dim: {}\".format(data.shape[0],data.shape[1]))"
   ]
  },
  {
   "cell_type": "code",
   "execution_count": 5,
   "id": "cc57ff0e",
   "metadata": {},
   "outputs": [
    {
     "name": "stdout",
     "output_type": "stream",
     "text": [
      "[INFO] samples: 19802, dim: 4\n"
     ]
    }
   ],
   "source": [
    "# construct the training and Validation splits\n",
    "(trainX, ValX, trainY, ValY) = train_test_split(data,target, test_size=0.20)\n",
    "\n",
    "# convert the labels from integers to vectors\n",
    "trainY = LabelBinarizer().fit_transform(trainY)\n",
    "ValY = LabelBinarizer().fit_transform(ValY)\n",
    "print(\"[INFO] samples: {}, dim: {}\".format(trainY.shape[0],trainY.shape[1]))"
   ]
  },
  {
   "cell_type": "markdown",
   "id": "4fe78be5",
   "metadata": {},
   "source": [
    "## In our Model, we input\n",
    "\n",
    "        Input Layers = 1\n",
    "        Hidden Layer = 1\n",
    "        Output Layer = 1\n",
    "        Epoches.     = 5\n",
    "        Hidden Layer nodes = 1000\n"
   ]
  },
  {
   "cell_type": "code",
   "execution_count": 6,
   "id": "f123bf5f",
   "metadata": {},
   "outputs": [
    {
     "name": "stdout",
     "output_type": "stream",
     "text": [
      "[INFO] training network...\n",
      "[INFO] NeuralNetwork: 784-1000-4\n"
     ]
    }
   ],
   "source": [
    "# training the network\n",
    "print(\"[INFO] training network...\")\n",
    "nn = NeuralNetwork([trainX.shape[1], 1000, 4])\n",
    "print(\"[INFO] {}\".format(nn))\n",
    "weights = nn.fit(trainX, trainY, epochs=5)"
   ]
  },
  {
   "cell_type": "code",
   "execution_count": 7,
   "id": "f41f0038",
   "metadata": {},
   "outputs": [
    {
     "name": "stdout",
     "output_type": "stream",
     "text": [
      "[INFO] evaluating network...\n",
      "              precision    recall  f1-score   support\n",
      "\n",
      "           0       0.99      0.99      0.99      1217\n",
      "           1       0.98      0.99      0.99      1368\n",
      "           2       0.96      0.97      0.97      1196\n",
      "           3       0.98      0.96      0.97      1170\n",
      "\n",
      "    accuracy                           0.98      4951\n",
      "   macro avg       0.98      0.98      0.98      4951\n",
      "weighted avg       0.98      0.98      0.98      4951\n",
      "\n"
     ]
    }
   ],
   "source": [
    "# evaluate the network with validation set\n",
    "\n",
    "print(\"[INFO] evaluating network...\")\n",
    "predictions = nn.predict(ValX)\n",
    "predictions = predictions.argmax(axis=1)\n",
    "print(classification_report(ValY.argmax(axis=1), predictions))\n"
   ]
  },
  {
   "cell_type": "markdown",
   "id": "009c64d0",
   "metadata": {},
   "source": [
    "#### Our Validation accuracy is 98%"
   ]
  },
  {
   "cell_type": "markdown",
   "id": "82a4b8f1",
   "metadata": {},
   "source": [
    "### Now saving our weights and model into a .npy file"
   ]
  },
  {
   "cell_type": "code",
   "execution_count": 8,
   "id": "81d1e854",
   "metadata": {},
   "outputs": [
    {
     "name": "stderr",
     "output_type": "stream",
     "text": [
      "/usr/local/lib/python3.9/site-packages/numpy/core/_asarray.py:136: VisibleDeprecationWarning: Creating an ndarray from ragged nested sequences (which is a list-or-tuple of lists-or-tuples-or ndarrays with different lengths or shapes) is deprecated. If you meant to do this, you must specify 'dtype=object' when creating the ndarray\n",
      "  return array(a, dtype, copy=False, order=order, subok=True)\n"
     ]
    }
   ],
   "source": [
    "np.save( 'weights.npy' , weights )"
   ]
  },
  {
   "cell_type": "code",
   "execution_count": null,
   "id": "14402028",
   "metadata": {},
   "outputs": [],
   "source": []
  },
  {
   "cell_type": "code",
   "execution_count": null,
   "id": "5a7039c6",
   "metadata": {},
   "outputs": [],
   "source": []
  },
  {
   "cell_type": "code",
   "execution_count": null,
   "id": "ce1b5f56",
   "metadata": {},
   "outputs": [],
   "source": []
  }
 ],
 "metadata": {
  "kernelspec": {
   "display_name": "Python 3",
   "language": "python",
   "name": "python3"
  },
  "language_info": {
   "codemirror_mode": {
    "name": "ipython",
    "version": 3
   },
   "file_extension": ".py",
   "mimetype": "text/x-python",
   "name": "python",
   "nbconvert_exporter": "python",
   "pygments_lexer": "ipython3",
   "version": "3.9.2"
  }
 },
 "nbformat": 4,
 "nbformat_minor": 5
}
